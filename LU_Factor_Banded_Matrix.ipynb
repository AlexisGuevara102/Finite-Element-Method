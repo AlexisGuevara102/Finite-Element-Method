{
 "cells": [
  {
   "cell_type": "markdown",
   "id": "ff39ae3c-508d-48a0-8344-4082368b83e7",
   "metadata": {},
   "source": [
    "### <p style=\"text-align: right;\"> Alexis Guevara"
   ]
  },
  {
   "cell_type": "markdown",
   "id": "c18000fc-4cfe-48f7-b265-8d0230e639a7",
   "metadata": {},
   "source": [
    "# LU Factorization on Banded Matrices"
   ]
  },
  {
   "cell_type": "code",
   "execution_count": 39,
   "id": "cfbe6044-924e-420d-99f3-801bf9e18fe1",
   "metadata": {},
   "outputs": [],
   "source": [
    "import numpy as np"
   ]
  },
  {
   "cell_type": "code",
   "execution_count": 5,
   "id": "6b6fd02d-a81f-48e4-be5b-2a2900af040d",
   "metadata": {},
   "outputs": [],
   "source": [
    "def bandLU(K, p, q):\n",
    "    # INPUTS - K: 2D numpy array representing the banded matrix to be factored\n",
    "    #          p: an integer representing the lower bandwidth \n",
    "    #          q: an integer representing the upper bandwidth\n",
    "    # OUTPUT - K: 2D numpy array\n",
    "\n",
    "    n = len(K)\n",
    "    for m in range(n-1):\n",
    "        for i in range(m+1 , min(m+p+1,n)):\n",
    "            K[i, m] = K[i,m] / K[m,m]\n",
    "        for j in range(m+1 , min(m+q+1,n)):\n",
    "            for i in range(m+1 , min(m+p+1,n)):\n",
    "                K[i,j] = K[i,j] - K[i,m] * K[m,j]\n",
    "    return K"
   ]
  },
  {
   "cell_type": "code",
   "execution_count": 6,
   "id": "c80e740e-d205-4d11-a89b-29ca29b5b8c0",
   "metadata": {},
   "outputs": [
    {
     "name": "stdout",
     "output_type": "stream",
     "text": [
      "[[  1.   2.   4.]\n",
      " [  3.   2.  14.]\n",
      " [  2.   3. -29.]]\n"
     ]
    }
   ],
   "source": [
    "#Test Case\n",
    "# Example 1:\n",
    "K = np.array([[1, 2, 4], \n",
    "              [3, 8, 14], \n",
    "              [2, 6, 13]], \n",
    "             dtype=float)\n",
    "p = 1 # lower bandwidth\n",
    "q = 1 # upper bandwidth\n",
    "\n",
    "LU = bandLU(K,p,q)\n",
    "print(LU)"
   ]
  },
  {
   "cell_type": "code",
   "execution_count": 8,
   "id": "2fcaba6a-4de1-46dc-a868-ff906e54ce93",
   "metadata": {},
   "outputs": [],
   "source": [
    "def bandforward(L,f,p):\n",
    "    # INPUTS - L: 2D numpy array representing the banded lower triangular matrix\n",
    "    #          f: 1D numpy array representing the RHS of the matrix equation Lz = f \n",
    "    #          p: an integer representing the lower bandwidth\n",
    "    # OUTPUT - z: 1D numpy array representing the solution of Lz = f\n",
    "    n = L.shape[0]\n",
    "    z = np.zeros(n)\n",
    "    for i in range(n):\n",
    "        sum_val = 0\n",
    "        for j in range(max(0, i-p), i):\n",
    "            sum_val += L[i, j] * z[j]\n",
    "        z[i] = (f[i] - sum_val) / L[i, i]\n",
    "    return z"
   ]
  },
  {
   "cell_type": "code",
   "execution_count": 10,
   "id": "dbd4e24c-df73-4504-b5b9-317e8bd37587",
   "metadata": {},
   "outputs": [],
   "source": [
    "def bandbackward(U,f,q):\n",
    "    # INPUTS - U: 2D numpy array representing the banded upper triangular matrix\n",
    "    #          f: 1D numpy array representing the RHS of the matrix equation Lz = f\n",
    "    #          q: an integer representing the upper bandwidth\n",
    "    # OUTPUT - \n",
    "\n",
    "    n = U.shape[0]\n",
    "    w = np.zeros(n)\n",
    "    for i in range(n-1, -1, -1):\n",
    "        sum_val = 0\n",
    "        for j in range(i+1, min(i+q+1,n)):\n",
    "            sum_val += U[i, j] * w[j]\n",
    "        w[i] = (f[i] - sum_val) / U[i, i]\n",
    "    return w"
   ]
  },
  {
   "cell_type": "markdown",
   "id": "39697a6d-8881-4a22-82ce-c32ad0a0897e",
   "metadata": {},
   "source": [
    "## Test Cases"
   ]
  },
  {
   "cell_type": "code",
   "execution_count": 12,
   "id": "6447de53-c1c5-415e-b7bd-997b051612fe",
   "metadata": {},
   "outputs": [
    {
     "name": "stdout",
     "output_type": "stream",
     "text": [
      "Random banded matrix K:\n",
      " [[0.32061164 0.8094554  0.         0.         0.        ]\n",
      " [0.0790247  0.38348249 0.65850857 0.         0.        ]\n",
      " [0.49062864 0.95160923 0.56847226 0.86089419 0.        ]\n",
      " [0.03241042 0.43473524 0.24732936 0.75899642 0.41081353]\n",
      " [0.         0.61652138 0.38233584 0.77973232 0.45792674]]\n"
     ]
    }
   ],
   "source": [
    "def create_random_band_matrix(n,p,q):\n",
    "    # Create a random banded matrix with: \n",
    "    # - dimensions n x n \n",
    "    # - lower bandwidth p \n",
    "    # - upper bandwidth q\n",
    "    K = np.zeros((n, n))\n",
    "    for i in range(n):\n",
    "        for j in range(max(0, i-p), min(n,i+q+1)):\n",
    "            K[i,j] = np.random.random()\n",
    "    return K\n",
    "\n",
    "# Example usage:\n",
    "n = 5  # Size of the matrix\n",
    "p = 3  # Lower bandwidth\n",
    "q = 1  # Upper bandwidth\n",
    "K = create_random_band_matrix(n, p, q)\n",
    "print(\"Random banded matrix K:\\n\", K)"
   ]
  },
  {
   "cell_type": "code",
   "execution_count": 13,
   "id": "eabd2f03-fc31-4a7e-9cb4-fbbbfe070f36",
   "metadata": {},
   "outputs": [
    {
     "name": "stdout",
     "output_type": "stream",
     "text": [
      "[[  1.   2.   4.]\n",
      " [  3.   2.  14.]\n",
      " [  2.   3. -29.]]\n"
     ]
    }
   ],
   "source": [
    "#Test Case\n",
    "# Example 1:\n",
    "K = np.array([[1, 2, 4], \n",
    "              [3, 8, 14], \n",
    "              [2, 6, 13]], \n",
    "             dtype=float)\n",
    "p = 1 # lower bandwidth\n",
    "q = 1 # upper bandwidth\n",
    "\n",
    "LU = bandLU(K,p,q)\n",
    "print(LU)"
   ]
  },
  {
   "cell_type": "code",
   "execution_count": 14,
   "id": "5a9e20e1-77c5-467b-b0e9-0e9c42ed606e",
   "metadata": {},
   "outputs": [
    {
     "name": "stdout",
     "output_type": "stream",
     "text": [
      "[[1.]\n",
      " [2.]\n",
      " [2.]\n",
      " [2.]]\n"
     ]
    }
   ],
   "source": [
    "# Example 2:\n",
    "L = np.array([[1, 0, 0, 0], [3, 1, 0, 0], [0, 2, 1, 0], [0, 0, 1, 1]], dtype=float)\n",
    "f = np.array([1, 5, 6, 4], dtype=float)\n",
    "p = 1  # lower bandwidth\n",
    "\n",
    "z = bandforward(L, f, p)\n",
    "print(z.reshape(-1,1))"
   ]
  },
  {
   "cell_type": "code",
   "execution_count": 15,
   "id": "cbfa406f-cdd7-4e6f-af46-30cb652be165",
   "metadata": {},
   "outputs": [
    {
     "name": "stdout",
     "output_type": "stream",
     "text": [
      "[[-0.57142857]\n",
      " [ 0.71428571]\n",
      " [ 0.        ]\n",
      " [ 2.        ]]\n"
     ]
    }
   ],
   "source": [
    "# Example 3:\n",
    "U = np.array([[2, 3, 0, 0], [0, 7, 4, 0], [0, 0, 5, 3], [0, 0, 0, 2]], dtype=float)\n",
    "f = np.array([1, 5, 6, 4], dtype=float)\n",
    "q = 2  # upper bandwidth\n",
    "\n",
    "w = bandbackward(U, f, q)\n",
    "print(w.reshape(-1,1))"
   ]
  },
  {
   "cell_type": "code",
   "execution_count": 16,
   "id": "2dca2eab-478b-4816-b502-0536631e7ba2",
   "metadata": {},
   "outputs": [
    {
     "name": "stdout",
     "output_type": "stream",
     "text": [
      "Modified matrix K after bandLU:\n",
      " [[  1.   2.   4.]\n",
      " [  3.   2.  14.]\n",
      " [  2.   3. -29.]]\n"
     ]
    }
   ],
   "source": [
    "import numpy as np\n",
    "\n",
    "# Function to perform LU factorization on a banded matrix\n",
    "def bandLU(K, p, q):\n",
    "    n = K.shape[0]\n",
    "    # Loop over each column up to the second last one\n",
    "    for m in range(n - 1):\n",
    "        # Update the lower triangular part of K\n",
    "        for i in range(m + 1, min(m + p + 1, n)):\n",
    "            K[i, m] /= K[m, m]\n",
    "        # Update the upper triangular part of K\n",
    "        for j in range(m + 1, min(m + q + 1, n)):\n",
    "            for i in range(m + 1, min(m + p + 1, n)):\n",
    "                K[i, j] -= K[i, m] * K[m, j]\n",
    "    return K\n",
    "\n",
    "#Test Case\n",
    "# Example 1:\n",
    "K = np.array([[1, 2, 4], \n",
    "              [3, 8, 14], \n",
    "              [2, 6, 13]], \n",
    "             dtype=float)\n",
    "p = 1 # lower bandwidth\n",
    "q = 1 # upper bandwidth\n",
    "\n",
    "# Perform LU factorization\n",
    "LU = bandLU(K, p, q)\n",
    "print(\"Modified matrix K after bandLU:\\n\", LU)\n"
   ]
  },
  {
   "cell_type": "code",
   "execution_count": 17,
   "id": "c8188c44-75b4-4a75-89ea-014ff6b61593",
   "metadata": {},
   "outputs": [
    {
     "name": "stdout",
     "output_type": "stream",
     "text": [
      "[[ 4.         -1.          0.          0.        ]\n",
      " [-0.25        3.75       -1.          0.        ]\n",
      " [ 0.         -0.26666667  3.73333333 -1.        ]\n",
      " [ 0.          0.         -0.26785714  3.73214286]]\n"
     ]
    }
   ],
   "source": [
    "import numpy as np\n",
    "\n",
    "def bandLU(K, p, q):\n",
    "    n = K.shape[0]\n",
    "    \n",
    "    for m in range(n - 1):\n",
    "        for i in range(m + 1, min(m + p + 1, n)):\n",
    "            K[i, m] = K[i, m] / K[m, m]\n",
    "        for j in range(m + 1, min(m + q + 1, n)):\n",
    "            for i in range(m + 1, min(m + p + 1, n)):\n",
    "                K[i, j] = K[i, j] - K[i, m] * K[m, j]\n",
    "    return K\n",
    "\n",
    "# Example usage\n",
    "K = np.array([[4, -1, 0, 0], \n",
    "              [-1, 4, -1, 0], \n",
    "              [0, -1, 4, -1], \n",
    "              [0, 0, -1, 4]], dtype=float)\n",
    "p, q = 1, 1\n",
    "print(bandLU(K, p, q))\n"
   ]
  },
  {
   "cell_type": "code",
   "execution_count": 18,
   "id": "0e23f365-784c-4984-b1b4-0ecf35e6794b",
   "metadata": {},
   "outputs": [],
   "source": [
    "def bandforward(L, f, p):\n",
    "    \"\"\"\n",
    "    INPUTS - L: 2D numpy array representing the banded lower triangular matrix\n",
    "             f: 1D numpy array representing the RHS of the matrix equation Lz = f\n",
    "             p: an integer representing the lower bandwidth\n",
    "    OUTPUT - z: 1D numpy array representing the solution of Lz = f\n",
    "    \"\"\"\n",
    "    n = len(L)  # Size of Matrix L\n",
    "    z = np.zeros(n) # Initialize solution vector of Lz = f\n",
    "\n",
    "    for i in range(n):\n",
    "        z[i] = f[i]\n",
    "        for j in range(max(0, i - p), i):\n",
    "            z[i] = z[i] - L[i, j] * z[j]\n",
    "        z[i] = z[i] / L[i, i]  # Divide by diagonal element\n",
    "    return z"
   ]
  },
  {
   "cell_type": "code",
   "execution_count": 19,
   "id": "899dbd07-10c7-40a3-a758-76aa2ad86d50",
   "metadata": {},
   "outputs": [
    {
     "name": "stdout",
     "output_type": "stream",
     "text": [
      "Solution of Lz = f:\n",
      " [[1.]\n",
      " [1.]\n",
      " [1.]]\n"
     ]
    }
   ],
   "source": [
    "# Example 2\n",
    "# Predefined lower triangular matrix\n",
    "L = np.array([[1, 0, 0],\n",
    "              [3, 1, 0],\n",
    "              [2, 1, 1]], dtype=np.float64)\n",
    "\n",
    "f1 = np.array([1,1,1])\n",
    "p = 0  # Upper bandwidth\n",
    "\n",
    "# Perform LU factorization\n",
    "z = bandforward(L, f1, p)\n",
    "print(\"Solution of Lz = f:\\n\", z.reshape(-1,1))"
   ]
  },
  {
   "cell_type": "code",
   "execution_count": 20,
   "id": "2d7e48fc-354b-4a9c-b0ca-81b2210f7a30",
   "metadata": {},
   "outputs": [],
   "source": [
    "def bandbackward(U, f, q):\n",
    "    \"\"\"\n",
    "    INPUTS - U: 2D numpy array representing the banded upper triangular matrix\n",
    "             f: 1D numpy array representing the RHS of the matrix equation Lz = f\n",
    "             q: an integer representing the upper bandwidth\n",
    "    OUTPUT - w: 1D numpy array representing the solution of Uw = f\n",
    "    \"\"\"\n",
    "    n = U.shape[0]\n",
    "    w = np.zeros(n)\n",
    "    ## Loop over each row in reverse order\n",
    "    for i in range(n-1, -1, -1):\n",
    "        w[i] = f[i]  # Start with right-hand side value\n",
    "        # Subtract known values from following rows\n",
    "        for j in range(i + 1, min(i + q + 1, n)):\n",
    "            w[i] = w[i] - U[i, j] * w[j]\n",
    "        w[i] = w[i] / U[i, i]  # Divide by diagonal element\n",
    "    return w"
   ]
  },
  {
   "cell_type": "code",
   "execution_count": 21,
   "id": "534a8658-9f7a-4e08-b741-8c34eaecff17",
   "metadata": {},
   "outputs": [
    {
     "name": "stdout",
     "output_type": "stream",
     "text": [
      "Solution of Uw = f:\n",
      " [[-3.66666667]\n",
      " [-0.33333333]\n",
      " [ 1.33333333]]\n"
     ]
    }
   ],
   "source": [
    "# Example 3\n",
    "# Predefined lower triangular matrix\n",
    "U = np.array([[1, 2, 4],\n",
    "              [0, 2, 2],\n",
    "              [0, 0, 3]], dtype=np.float64)\n",
    "\n",
    "f2 = np.array([1,2,4], dtype=np.float64) \n",
    "q = 2  # Upper bandwidth\n",
    "\n",
    "# Perform LU factorization\n",
    "w = bandbackward(U, f2, q)\n",
    "print(\"Solution of Uw = f:\\n\", w.reshape(-1,1))"
   ]
  },
  {
   "cell_type": "code",
   "execution_count": null,
   "id": "07dff25b-7186-466d-a8ed-52ea1e3246db",
   "metadata": {},
   "outputs": [],
   "source": []
  }
 ],
 "metadata": {
  "kernelspec": {
   "display_name": "Python [conda env:base] *",
   "language": "python",
   "name": "conda-base-py"
  },
  "language_info": {
   "codemirror_mode": {
    "name": "ipython",
    "version": 3
   },
   "file_extension": ".py",
   "mimetype": "text/x-python",
   "name": "python",
   "nbconvert_exporter": "python",
   "pygments_lexer": "ipython3",
   "version": "3.11.5"
  }
 },
 "nbformat": 4,
 "nbformat_minor": 5
}
